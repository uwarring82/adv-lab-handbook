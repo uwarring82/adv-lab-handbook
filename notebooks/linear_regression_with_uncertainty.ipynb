{
 "cells": [
  {
   "cell_type": "markdown",
   "metadata": {
    "editable": false,
    "deletable": false
   },
   "source": [
    "# Ethical Reminder\n",
    "\n",
    "This notebook follows the **Lab Alliance Compact**. Proceed only if you commit to:\n",
    "\n",
    "- Uphold data integrity: record results honestly and document processing steps.\n",
    "- Credit original work: cite sources and acknowledge collaborators appropriately.\n",
    "- Collaborate respectfully: communicate openly, share workload fairly, and seek help early when challenges arise."
   ]
  },
  {
   "cell_type": "code",
   "metadata": {},
   "execution_count": null,
   "outputs": [],
   "source": [
    "import numpy as np\n",
    "from scipy.optimize import curve_fit\n",
    "import matplotlib.pyplot as plt"
   ]
  },
  {
   "cell_type": "code",
   "metadata": {},
   "execution_count": null,
   "outputs": [],
   "source": [
    "rng = np.random.default_rng(42)\n",
    "x = np.linspace(0, 10, 25)\n",
    "true_m, true_b = 2.5, -1.0\n",
    "stat_sigma = 0.6\n",
    "systematic_offset = 0.3\n",
    "noise = rng.normal(0, stat_sigma, size=x.size)\n",
    "y = true_m * x + true_b + noise + systematic_offset\n",
    "\n",
    "stat_uncertainty = np.full_like(x, stat_sigma)"
   ]
  },
  {
   "cell_type": "code",
   "metadata": {},
   "execution_count": null,
   "outputs": [],
   "source": [
    "def linear(x, m, b):\n",
    "    return m * x + b\n",
    "\n",
    "popt, pcov = curve_fit(linear, x, y, sigma=stat_uncertainty, absolute_sigma=True)\n",
    "perr = np.sqrt(np.diag(pcov))\n",
    "print(f\"Slope: {popt[0]:.3f} \u00b1 {perr[0]:.3f}\")\n",
    "print(f\"Intercept: {popt[1]:.3f} \u00b1 {perr[1]:.3f}\")"
   ]
  },
  {
   "cell_type": "code",
   "metadata": {},
   "execution_count": null,
   "outputs": [],
   "source": [
    "fit_y = linear(x, *popt)\n",
    "residuals = y - fit_y\n",
    "\n",
    "fig, axes = plt.subplots(2, 1, figsize=(6, 8), sharex=True)\n",
    "axes[0].errorbar(x, y, yerr=stat_uncertainty, fmt='o', label='Measurements')\n",
    "axes[0].plot(x, fit_y, '-', label='Best-fit line')\n",
    "axes[0].set_ylabel('y')\n",
    "axes[0].legend()\n",
    "\n",
    "axes[1].axhline(0, color='k', linestyle='--')\n",
    "axes[1].errorbar(x, residuals, yerr=stat_uncertainty, fmt='o')\n",
    "axes[1].set_xlabel('x')\n",
    "axes[1].set_ylabel('Residuals')\n",
    "plt.tight_layout()\n",
    "plt.show()"
   ]
  },
  {
   "cell_type": "markdown",
   "metadata": {},
   "source": [
    "## Discussion\n",
    "\n",
    "The statistical uncertainties (error bars) describe measurement scatter and inform the weighted fit.\n",
    "The systematic offset of 0.3 introduces a bias in the intercept, visible in the residuals trending positive.\n",
    "Further investigation could include independent calibration or control measurements to constrain systematic effects."
   ]
  }
 ],
 "metadata": {
  "kernelspec": {
   "name": "python3",
   "display_name": "Python 3",
   "language": "python"
  },
  "language_info": {
   "name": "python",
   "version": "3.11"
  }
 },
 "nbformat": 4,
 "nbformat_minor": 5
}