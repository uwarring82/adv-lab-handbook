{
 "cells": [
  {
   "cell_type": "markdown",
   "metadata": {
    "editable": false,
    "deletable": false
   },
   "source": [
    "# Ethical Reminder (from the Lab Alliance Compact)\n",
    "\n",
    "- Data belongs to truth, not expectations; document analysis transparently.  \n",
    "- Perform **your own work**; cite all sources properly.  \n",
    "- Respect collaboration and uphold psychological safety.  \n",
    "\n",
    "> By proceeding, you acknowledge the Compact and agree to act accordingly."
   ]
  },
  {
   "cell_type": "markdown",
   "metadata": {},
   "source": [
    "# Gaussian Fit Pilot\n",
    "\n",
    "**Learning goals**\n",
    "1. Generate synthetic Gaussian data with known ground truth.\n",
    "2. Perform nonlinear fit using `scipy.optimize.curve_fit`.\n",
    "3. Interpret parameter uncertainties.\n",
    "4. Diagnose fits with residuals.\n",
    "5. Understand systematic vs. statistical uncertainty in peak fitting."
   ]
  },
  {
   "cell_type": "code",
   "execution_count": null,
   "metadata": {},
   "outputs": [],
   "source": [
    "import numpy as np\n",
    "import matplotlib.pyplot as plt\n",
    "from scipy.optimize import curve_fit\n",
    "rng = np.random.default_rng(123)\n",
    "\n",
    "def gauss(x, A, x0, sigma, C):\n",
    "    return A * np.exp(-(x-x0)**2/(2*sigma**2)) + C\n",
    "\n",
    "# True parameters\n",
    "A_true, x0_true, sigma_true, C_true = 5.0, 0.0, 1.0, 0.5\n",
    "N = 80\n",
    "x = np.linspace(-5, 5, N)\n",
    "y = gauss(x, A_true, x0_true, sigma_true, C_true) + rng.normal(0, 0.2, size=N)\n",
    "\n",
    "plt.plot(x, y, 'o', label='data')\n",
    "plt.xlabel('x'); plt.ylabel('y')\n",
    "plt.title('Synthetic Gaussian Data')\n",
    "plt.legend(); plt.show()\n"
   ]
  },
  {
   "cell_type": "markdown",
   "metadata": {},
   "source": [
    "## Perform Gaussian fit\n",
    "We use `curve_fit` to estimate A, x0, \u03c3, C."
   ]
  },
  {
   "cell_type": "code",
   "execution_count": null,
   "metadata": {},
   "outputs": [],
   "source": [
    "p0 = [4.0, 0.5, 0.8, 0.0]\n",
    "popt, pcov = curve_fit(gauss, x, y, p0=p0)\n",
    "perr = np.sqrt(np.diag(pcov))\n",
    "for name, val, err, tru in zip(['A','x0','sigma','C'], popt, perr,\n",
    "                               [A_true,x0_true,sigma_true,C_true]):\n",
    "    print(f\"{name:5s} = {val:7.3f} \u00b1 {err:5.3f} (true {tru:5.3f})\")\n"
   ]
  },
  {
   "cell_type": "code",
   "execution_count": null,
   "metadata": {},
   "outputs": [],
   "source": [
    "y_fit = gauss(x, *popt)\n",
    "res = y - y_fit\n",
    "\n",
    "fig, (ax1, ax2) = plt.subplots(2,1,figsize=(6,6),sharex=True)\n",
    "ax1.plot(x,y,'o',label='data')\n",
    "ax1.plot(x,y_fit,'r-',label='fit')\n",
    "ax1.legend(); ax1.set_ylabel('y')\n",
    "\n",
    "ax2.axhline(0,color='k',lw=1)\n",
    "ax2.plot(x,res,'o')\n",
    "ax2.set_xlabel('x'); ax2.set_ylabel('residuals')\n",
    "ax2.set_title('Residuals')\n",
    "plt.tight_layout(); plt.show()\n"
   ]
  },
  {
   "cell_type": "markdown",
   "metadata": {},
   "source": [
    "## Exercises\n",
    "1. Add random outliers to the data. How robust is the Gaussian fit?\n",
    "2. Change initial guesses `p0` \u2014 does the fit still converge?\n",
    "3. Increase noise variance. How do uncertainties in parameters scale?\n",
    "4. Introduce a systematic shift (add +0.1 to all y-values). Which parameter absorbs it? Why?\n"
   ]
  }
 ],
 "metadata": {
  "kernelspec": {
   "display_name": "Python 3",
   "language": "python",
   "name": "python3"
  },
  "language_info": {
   "name": "python",
   "version": "3"
  }
 },
 "nbformat": 4,
 "nbformat_minor": 5
}